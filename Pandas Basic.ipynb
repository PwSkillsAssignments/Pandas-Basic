{
 "cells": [
  {
   "cell_type": "code",
   "execution_count": 1,
   "id": "f6b97eb6",
   "metadata": {},
   "outputs": [],
   "source": [
    "import pandas as pd"
   ]
  },
  {
   "cell_type": "markdown",
   "id": "06a2b48c",
   "metadata": {},
   "source": [
    "Q1. Create a Pandas Series that contains the following data: 4, 8, 15, 16, 23, and 42. Then, print the series."
   ]
  },
  {
   "cell_type": "code",
   "execution_count": 9,
   "id": "394de937",
   "metadata": {},
   "outputs": [
    {
     "name": "stdout",
     "output_type": "stream",
     "text": [
      "0     4\n",
      "1     8\n",
      "2    15\n",
      "3    16\n",
      "4    23\n",
      "5    42\n",
      "dtype: int64\n",
      "Datatype is :  <class 'pandas.core.series.Series'>\n"
     ]
    }
   ],
   "source": [
    "sample_series = pd.Series([ 4, 8, 15, 16, 23,42])\n",
    "print(sample_series)\n",
    "print('Datatype is : ',type(sample_series))"
   ]
  },
  {
   "cell_type": "markdown",
   "id": "f98ee6bd",
   "metadata": {},
   "source": [
    "Q2. Create a variable of list type containing 10 elements in it, and apply pandas.Series function on the\n",
    "variable print it."
   ]
  },
  {
   "cell_type": "code",
   "execution_count": 12,
   "id": "ca187a85",
   "metadata": {},
   "outputs": [
    {
     "name": "stdout",
     "output_type": "stream",
     "text": [
      "0    0\n",
      "1    1\n",
      "2    2\n",
      "3    3\n",
      "4    4\n",
      "5    5\n",
      "6    6\n",
      "7    7\n",
      "8    8\n",
      "9    9\n",
      "dtype: int64\n"
     ]
    }
   ],
   "source": [
    "sample_list = range(10)\n",
    "sample_elem = pd.Series(sample_list)\n",
    "print(sample_elem)"
   ]
  },
  {
   "attachments": {
    "image.png": {
     "image/png": "[encoded data removed]"
    }
   },
   "cell_type": "markdown",
   "id": "5b803fda",
   "metadata": {},
   "source": [
    "Q3. Create a Pandas DataFrame that contains the following data:\n",
    "![image.png](attachment:image.png)"
   ]
  },
  {
   "cell_type": "code",
   "execution_count": 23,
   "id": "13ee48a3",
   "metadata": {},
   "outputs": [
    {
     "name": "stdout",
     "output_type": "stream",
     "text": [
      "     Name  Age  Gender\n",
      "0   Alice   25  Female\n",
      "1     Bob   30    Male\n",
      "2  Claire   27  Female\n"
     ]
    }
   ],
   "source": [
    "df = pd.DataFrame({\n",
    "    \"Name\": ['Alice', 'Bob', 'Claire'],\n",
    "    \"Age\": [25, 30, 27],\n",
    "    'Gender': ['Female', 'Male', 'Female']\n",
    "})\n",
    "print(df)"
   ]
  },
  {
   "cell_type": "markdown",
   "id": "28f9446e",
   "metadata": {},
   "source": [
    "Q4. What is ‘DataFrame’ in pandas and how is it different from pandas.series? Explain with an example."
   ]
  },
  {
   "cell_type": "markdown",
   "id": "0abb7163",
   "metadata": {},
   "source": [
    "Ans: DataFrame is the 2d, labelled data. Series is the  1d labelled array, Collection of series is calle the dataframe"
   ]
  },
  {
   "cell_type": "markdown",
   "id": "acd11803",
   "metadata": {},
   "source": [
    "Q5. What are some common functions you can use to manipulate data in a Pandas DataFrame? Can\n",
    "you give an example of when you might use one of these functions?"
   ]
  },
  {
   "cell_type": "markdown",
   "id": "c0f914fd",
   "metadata": {},
   "source": [
    "Ans: <br>\n",
    "    1. head() and tail(): Display the first or last rows of the dataFrame.<br>\n",
    "    2. describe(): Display the stats of the dataframe.<br>\n",
    "    3. shape: return the number of rows and column.<br>\n",
    "    4. fillna(): used to fill the NaNs.<br>"
   ]
  },
  {
   "cell_type": "markdown",
   "id": "08ee3eac",
   "metadata": {},
   "source": [
    "Q6 . Which of the following is mutable in nature Series, DataFrame, Panel?"
   ]
  },
  {
   "cell_type": "markdown",
   "id": "eeecf447",
   "metadata": {},
   "source": [
    "Ans:  Series and DataFrame ar mutable in nature."
   ]
  },
  {
   "cell_type": "markdown",
   "id": "811dd362",
   "metadata": {},
   "source": [
    "Q7. Create a DataFrame using multiple Series. Explain with an example"
   ]
  },
  {
   "cell_type": "code",
   "execution_count": 39,
   "id": "bd0fafcf",
   "metadata": {},
   "outputs": [
    {
     "name": "stdout",
     "output_type": "stream",
     "text": [
      "     Name  Age  Gender\n",
      "0   Alice   25  Female\n",
      "1     Bob   30    Male\n",
      "2  Claire   27  Female\n"
     ]
    }
   ],
   "source": [
    "Name = pd.Series(['Alice', 'Bob', 'Claire'])\n",
    "Age = pd.Series([25, 30, 27])\n",
    "Gender =  pd.Series(['Female', 'Male', 'Female'])\n",
    "df2 = pd.DataFrame({'Name': Name, 'Age': Age, 'Gender': Gender})\n",
    "print(df2)"
   ]
  },
  {
   "cell_type": "code",
   "execution_count": null,
   "id": "801e7454",
   "metadata": {},
   "outputs": [],
   "source": []
  }
 ],
 "metadata": {
  "kernelspec": {
   "display_name": "Python 3 (ipykernel)",
   "language": "python",
   "name": "python3"
  },
  "language_info": {
   "codemirror_mode": {
    "name": "ipython",
    "version": 3
   },
   "file_extension": ".py",
   "mimetype": "text/x-python",
   "name": "python",
   "nbconvert_exporter": "python",
   "pygments_lexer": "ipython3",
   "version": "3.9.12"
  }
 },
 "nbformat": 4,
 "nbformat_minor": 5
}
